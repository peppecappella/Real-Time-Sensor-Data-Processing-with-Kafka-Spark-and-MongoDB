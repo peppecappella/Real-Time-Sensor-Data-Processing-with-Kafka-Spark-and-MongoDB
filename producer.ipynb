{
 "cells": [
  {
   "cell_type": "markdown",
   "id": "3928e137-be3c-4fe7-b631-7537b707f4d1",
   "metadata": {},
   "source": [
    "## PRODUCER"
   ]
  },
  {
   "cell_type": "markdown",
   "id": "9fc3139b-2a94-4f67-95c7-abbe1bf5e3a0",
   "metadata": {},
   "source": [
    "The presented code represents the Kafka producer, the component designed to capture and send real-time sensor data from bike-sharing stations to a Kafka topic.\n",
    "\n",
    "The process begins with the producer making an HTTP request to obtain station information from a specified URL.\n",
    "\n",
    "Subsequently, the Kafka producer is created and configured to communicate with specified Kafka servers, using a serialization function that transforms the data into JSON format. This configuration is crucial to ensure that the sent data are correctly interpreted and managed by downstream Kafka consumers.\n",
    "\n",
    "The heart of the script is the function responsible for sending the updated station status to the Kafka topic sensor_data. Reading the station IDs of interest from a file, the producer queries the URL with a latency of one second to obtain the updated station status and sends the data to the Kafka topic.\n",
    "\n",
    "Finally, the script includes measures to ensure that, in case of errors or at the end of execution, the connection with the Kafka producer is properly closed, avoiding potential resource leaks or blocks in the system."
   ]
  },
  {
   "cell_type": "code",
   "execution_count": 3,
   "id": "16d1994f-6cc1-4012-9519-0278e6909660",
   "metadata": {},
   "outputs": [
    {
     "name": "stdout",
     "output_type": "stream",
     "text": [
      "Requirement already satisfied: requests in /Users/panda/mambaforge/lib/python3.10/site-packages (2.31.0)\n",
      "Requirement already satisfied: charset-normalizer<4,>=2 in /Users/panda/mambaforge/lib/python3.10/site-packages (from requests) (3.2.0)\n",
      "Requirement already satisfied: idna<4,>=2.5 in /Users/panda/mambaforge/lib/python3.10/site-packages (from requests) (3.4)\n",
      "Requirement already satisfied: urllib3<3,>=1.21.1 in /Users/panda/mambaforge/lib/python3.10/site-packages (from requests) (2.0.4)\n",
      "Requirement already satisfied: certifi>=2017.4.17 in /Users/panda/mambaforge/lib/python3.10/site-packages (from requests) (2024.2.2)\n"
     ]
    }
   ],
   "source": [
    "!pip install requests"
   ]
  },
  {
   "cell_type": "code",
   "execution_count": 4,
   "id": "eaa06304-f8d3-4e94-83a5-e3d3f97872a7",
   "metadata": {},
   "outputs": [],
   "source": [
    "import pandas as pd\n",
    "import requests\n",
    "from kafka import KafkaProducer\n",
    "import json\n",
    "import time\n",
    "import datetime"
   ]
  },
  {
   "cell_type": "code",
   "execution_count": null,
   "id": "1aa93ea8-c0c2-4253-8ab8-eb3a1b13a0a0",
   "metadata": {},
   "outputs": [],
   "source": [
    "def fetch_and_filter_stations(station_info_url, short_names_file):\n",
    "    response = requests.get(station_info_url)\n",
    "    data = response.json()\n",
    "    df = pd.DataFrame(data['data']['stations'])\n",
    "    with open(short_names_file, 'r') as f:\n",
    "        short_names = [line.strip() for line in f]\n",
    "    filtered_df = df.loc[df['short_name'].isin(short_names)]\n",
    "    filtered_df[\"station_id\"].to_csv(\"station_id.txt\", header=False, index=False)\n",
    "\n",
    "def datetime_serializer(obj):\n",
    "    if isinstance(obj, datetime.datetime):\n",
    "        return obj.strftime('%Y-%m-%d %H:%M:%S')\n",
    "    raise TypeError(\"Type not serializable\")\n",
    "\n",
    "def create_kafka_producer(bootstrap_servers, value_serializer):\n",
    "    return KafkaProducer(\n",
    "        bootstrap_servers=bootstrap_servers,\n",
    "        value_serializer=value_serializer\n",
    "    )\n",
    "\n",
    "def send_station_status(producer, station_status_url, station_ids_file):\n",
    "    counter = 0\n",
    "    with open(station_ids_file, 'r') as f:\n",
    "        station_ids = f.read().splitlines()\n",
    "    while counter < 1036800:  # Use a more meaningful constant or configuration for this limit\n",
    "        response = requests.get(station_status_url)\n",
    "        data = response.json()\n",
    "        for station in data['data']['stations']:\n",
    "            if station['station_id'] in station_ids:\n",
    "                sensor_data = {\n",
    "                    'station_id': station['station_id'],\n",
    "                    'num_bikes_available': station['num_bikes_available'],\n",
    "                    'num_ebikes_available': station['num_ebikes_available'],\n",
    "                    'num_docks_available': station['num_docks_available'],\n",
    "                    'dt2': station['last_reported']\n",
    "                }\n",
    "                producer.send('sensor_data', sensor_data)\n",
    "        counter += 1\n",
    "        time.sleep(1)\n",
    "\n",
    "def main():\n",
    "    station_info_url = 'https://gbfs.capitalbikeshare.com/gbfs/en/station_information.json'\n",
    "    station_status_url = 'https://gbfs.capitalbikeshare.com/gbfs/en/station_status.json'\n",
    "    fetch_and_filter_stations(station_info_url, 'start_stations.txt')\n",
    "    \n",
    "    try:\n",
    "        producer = create_kafka_producer(\n",
    "            bootstrap_servers=['localhost:9092'],\n",
    "            value_serializer=lambda v: json.dumps(v, default=datetime_serializer).encode('utf-8')\n",
    "        )\n",
    "        send_station_status(producer, station_status_url, 'station_id.txt')\n",
    "        producer.send('sensor_data', {'terminate': True})  # Optionally add callbacks here\n",
    "    except Exception as ex:\n",
    "        print(f\"Errore nella connessione al broker Kafka: {str(ex)}\")\n",
    "    finally:\n",
    "        if producer is not None:\n",
    "            producer.close()\n",
    "\n",
    "if __name__ == \"__main__\":\n",
    "    main()\n"
   ]
  },
  {
   "cell_type": "code",
   "execution_count": null,
   "id": "9443b360-c7ab-45e9-8dea-2186e1afce13",
   "metadata": {},
   "outputs": [],
   "source": []
  }
 ],
 "metadata": {
  "kernelspec": {
   "display_name": "Python 3 (ipykernel)",
   "language": "python",
   "name": "python3"
  },
  "language_info": {
   "codemirror_mode": {
    "name": "ipython",
    "version": 3
   },
   "file_extension": ".py",
   "mimetype": "text/x-python",
   "name": "python",
   "nbconvert_exporter": "python",
   "pygments_lexer": "ipython3",
   "version": "3.10.12"
  }
 },
 "nbformat": 4,
 "nbformat_minor": 5
}
